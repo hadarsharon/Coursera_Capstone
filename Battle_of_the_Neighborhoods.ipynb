{
 "cells": [
  {
   "cell_type": "markdown",
   "metadata": {},
   "source": [
    "# Hadar Sharon - The Battle of the Neighborhoods"
   ]
  },
  {
   "cell_type": "markdown",
   "metadata": {},
   "source": [
    "### The Business Problem:"
   ]
  },
  {
   "cell_type": "markdown",
   "metadata": {},
   "source": [
    "I am looking to open a high-end Asian restaurant in Tel-Aviv, Israel. I am unsure as of where I should open it, as there are a couple of specific issues that bother me:\n",
    "1. I want my restaurant to stand out from the crowd, meaning that if there are many Asian restaurants in my area, it would negatively affect my business traffic and cause customer loss with fierce competition.\n",
    "2. On the other hand, if my restaurant is located in a quiet and/or neglected area, or rather a very noisy and industrial area, it would not attract any customers either.\n",
    "3. Moreover - Since my restaurant is going to be a high-end restaurant, I need it to be close to an affluent neighbourhood(s) so as to attract affluent customers.\n",
    "4. Accessibility is still important - I'd still like my restaurant to be relatively accessible, thus not located at the edge of the city or far from main roads."
   ]
  },
  {
   "cell_type": "markdown",
   "metadata": {},
   "source": [
    "### The Data:"
   ]
  },
  {
   "cell_type": "markdown",
   "metadata": {},
   "source": [
    "I am going to need data based on the city of Tel-Aviv, Israel, as well as its neighbourhoods.\n",
    "\n",
    "Specifically, I need to be able to map out all Asian restaurants in Tel-Aviv, and be able to obtain insights about the residents of each neighbourhood - their income, their age, and lifestyle in general (as possible).\n",
    "\n",
    "I am planning on using the Foursquare API to handle all the Geolocation data related to restaurants, and perhaps bound & classify each neighbourhood of the city using it (+ Visualization).\n",
    "\n",
    "I am also looking to obtain a dataset with data about the residents of Tel-Aviv, whether from a local API or I will scrape entire datasets from the Internet if needed."
   ]
  },
  {
   "cell_type": "markdown",
   "metadata": {},
   "source": [
    "### Methodology"
   ]
  },
  {
   "cell_type": "markdown",
   "metadata": {},
   "source": [
    "First, we are going to discuss the libraries and modules used in this report.\n",
    "As I chose to use Python as my main programming language for this task, I have relied on its popular Data Analysis, namely:\n",
    "- Numpy, Pandas for Exploratory Data Analysis\n",
    "- Matplotlib, Folium for Data Visualization\n",
    "- I also used the Foursquare API for Geolocation data"
   ]
  },
  {
   "cell_type": "markdown",
   "metadata": {},
   "source": [
    "###### Let's import these libraries: "
   ]
  },
  {
   "cell_type": "code",
   "execution_count": 1,
   "metadata": {},
   "outputs": [],
   "source": [
    "import numpy as np\n",
    "import pandas as pd\n",
    "import matplotlib as mpl\n",
    "import folium\n",
    "# Foursquare credentials\n",
    "FS_CLIENT_ID = \"HWMWGYDHIK1T1RY5AGIRVO5DSBTNK4BYZJZY12DBXIHZEVHN\"\n",
    "FS_CLIENT_SECRET = \"KVNRQT1IYIQK332KWN2VH1BSUCRHJQMHBFRFH200AIR2CBHM\"\n",
    "FS_VERSION = \"20200306\""
   ]
  },
  {
   "cell_type": "markdown",
   "metadata": {},
   "source": [
    "###### And create a folium map object focused on Tel-Aviv:"
   ]
  },
  {
   "cell_type": "code",
   "execution_count": 2,
   "metadata": {},
   "outputs": [
    {
     "data": {
      "text/html": [
       "<div style=\"width:100%;\"><div style=\"position:relative;width:100%;height:0;padding-bottom:60%;\"><iframe src=\"about:blank\" style=\"position:absolute;width:100%;height:100%;left:0;top:0;border:none !important;\" data-html=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 onload=\"this.contentDocument.open();this.contentDocument.write(atob(this.getAttribute('data-html')));this.contentDocument.close();\" allowfullscreen webkitallowfullscreen mozallowfullscreen></iframe></div></div>"
      ],
      "text/plain": [
       "<folium.folium.Map at 0x2246c869988>"
      ]
     },
     "execution_count": 2,
     "metadata": {},
     "output_type": "execute_result"
    }
   ],
   "source": [
    "from IPython.display import display\n",
    "telaviv_lat = 32.0853\n",
    "telaviv_lon = 34.7818\n",
    "telaviv_map = folium.Map(location=[telaviv_lat, telaviv_lon], zoom_start=13)\n",
    "telaviv_map"
   ]
  },
  {
   "cell_type": "markdown",
   "metadata": {},
   "source": [
    "#### Now, let's make some requests to Foursquare in order to map all Asian restaurants in Tel Aviv\n",
    "\n",
    "First, we're going to get all Foursquare categories, so we could filter our results to match only Asian restaurants\n",
    "(Note: this includes many subcategories i.e. Japanese, Chinese, Dim-Sum places etc., so it is quite tedious!)"
   ]
  },
  {
   "cell_type": "code",
   "execution_count": 3,
   "metadata": {},
   "outputs": [],
   "source": [
    "import json, requests\n",
    "\n",
    "# Find the relevant Foursquare category for Asian restaurants so we could query by it later\n",
    "fs_categories_url = \"https://api.foursquare.com/v2/venues/categories\"\n",
    "fs_categories_params = dict(\n",
    "    client_id=f'{FS_CLIENT_ID}',\n",
    "    client_secret=f'{FS_CLIENT_SECRET}',\n",
    "    v=f'{FS_VERSION}'\n",
    ")\n",
    "\n",
    "resp = requests.get(url=fs_categories_url, params=fs_categories_params)\n",
    "data = json.loads(resp.text)"
   ]
  },
  {
   "cell_type": "markdown",
   "metadata": {},
   "source": [
    "###### Out of all categories found, we want to keep a list of only the Asian categories and the aforementioned subtypes\n",
    "(This is done here with pandas dataframes and a recursive function that adds all relevant category ids)"
   ]
  },
  {
   "cell_type": "code",
   "execution_count": 4,
   "metadata": {},
   "outputs": [],
   "source": [
    "categories_to_search_by = []\n",
    "\n",
    "def add_category_id(entry, result_list):\n",
    "    result_list.append(entry['id'])\n",
    "    if 'categories' in entry:\n",
    "        for sub_entry in entry['categories']:\n",
    "            add_category_id(sub_entry, result_list)\n",
    "\n",
    "categories_df = pd.DataFrame(data['response']['categories'])\n",
    "food_categories_df = categories_df[categories_df['name'].isin([\"Food\", \"Restaurant\", \"Restaurants\"])]\n",
    "asian_categories = list(filter(lambda res: res['shortName'] in 'Asian', food_categories_df['categories'].values[0]))\n",
    "\n",
    "for category in asian_categories:\n",
    "    add_category_id(category, categories_to_search_by)"
   ]
  },
  {
   "cell_type": "markdown",
   "metadata": {},
   "source": [
    "#### Great! Now we have all the category IDs we want to filter by\n",
    "On the one hand we filtered out non-Asian restaurants, but on the other hand we have all the Asian subcategories so we can be quite sure that we don't miss that Thai place around the corner! ;)"
   ]
  },
  {
   "cell_type": "markdown",
   "metadata": {},
   "source": [
    "###### Now it's time to search for the actual restaurants, also using the Foursquare API:"
   ]
  },
  {
   "cell_type": "code",
   "execution_count": 5,
   "metadata": {},
   "outputs": [],
   "source": [
    "fs_search_url = \"https://api.foursquare.com/v2/venues/search\"\n",
    "\n",
    "fs_search_params = dict(\n",
    "  client_id=f'{FS_CLIENT_ID}',\n",
    "  client_secret=f'{FS_CLIENT_SECRET}',\n",
    "  v=f'{FS_VERSION}',\n",
    "  ll=f'{telaviv_lat}, {telaviv_lon}',\n",
    "  categoryId=f\"{','.join(categories_to_search_by)}\",\n",
    "  radius=10000  # 10 kilometers radius from the heart of Tel-Aviv\n",
    ")\n",
    "resp = requests.get(url=fs_search_url, params=fs_search_params)\n",
    "found_restaurants_data = json.loads(resp.text)"
   ]
  },
  {
   "cell_type": "markdown",
   "metadata": {},
   "source": [
    "###### Let's put all found restaurants into a nice pandas dataframe:"
   ]
  },
  {
   "cell_type": "code",
   "execution_count": 6,
   "metadata": {},
   "outputs": [
    {
     "data": {
      "text/html": [
       "<div>\n",
       "<style scoped>\n",
       "    .dataframe tbody tr th:only-of-type {\n",
       "        vertical-align: middle;\n",
       "    }\n",
       "\n",
       "    .dataframe tbody tr th {\n",
       "        vertical-align: top;\n",
       "    }\n",
       "\n",
       "    .dataframe thead th {\n",
       "        text-align: right;\n",
       "    }\n",
       "</style>\n",
       "<table border=\"1\" class=\"dataframe\">\n",
       "  <thead>\n",
       "    <tr style=\"text-align: right;\">\n",
       "      <th></th>\n",
       "      <th>id</th>\n",
       "      <th>name</th>\n",
       "      <th>location</th>\n",
       "      <th>categories</th>\n",
       "      <th>referralId</th>\n",
       "      <th>hasPerk</th>\n",
       "      <th>venuePage</th>\n",
       "    </tr>\n",
       "  </thead>\n",
       "  <tbody>\n",
       "    <tr>\n",
       "      <td>0</td>\n",
       "      <td>594800de4382ab30b243a4e6</td>\n",
       "      <td>Cà Phê Hanoi</td>\n",
       "      <td>{'lat': 32.07968605952711, 'lng': 34.779864215...</td>\n",
       "      <td>[{'id': '4bf58dd8d48988d14a941735', 'name': 'V...</td>\n",
       "      <td>v-1583505798</td>\n",
       "      <td>False</td>\n",
       "      <td>NaN</td>\n",
       "    </tr>\n",
       "    <tr>\n",
       "      <td>1</td>\n",
       "      <td>572adbf5498e1d76d32da113</td>\n",
       "      <td>מלי מלי</td>\n",
       "      <td>{'lat': 32.081486, 'lng': 34.809708, 'labeledL...</td>\n",
       "      <td>[{'id': '4bf58dd8d48988d145941735', 'name': 'C...</td>\n",
       "      <td>v-1583505798</td>\n",
       "      <td>False</td>\n",
       "      <td>NaN</td>\n",
       "    </tr>\n",
       "    <tr>\n",
       "      <td>2</td>\n",
       "      <td>4cc965dcbfe1f04dc7870d75</td>\n",
       "      <td>אצה סושי</td>\n",
       "      <td>{'lat': 32.08323412282996, 'lng': 34.803849552...</td>\n",
       "      <td>[{'id': '4bf58dd8d48988d1d2941735', 'name': 'S...</td>\n",
       "      <td>v-1583505798</td>\n",
       "      <td>False</td>\n",
       "      <td>NaN</td>\n",
       "    </tr>\n",
       "    <tr>\n",
       "      <td>3</td>\n",
       "      <td>4ff17dfee4b018b0680ebaa9</td>\n",
       "      <td>צ׳אנג מאי</td>\n",
       "      <td>{'lat': 32.08767781134958, 'lng': 34.803949225...</td>\n",
       "      <td>[{'id': '4bf58dd8d48988d149941735', 'name': 'T...</td>\n",
       "      <td>v-1583505799</td>\n",
       "      <td>False</td>\n",
       "      <td>NaN</td>\n",
       "    </tr>\n",
       "    <tr>\n",
       "      <td>4</td>\n",
       "      <td>5c41b198f870fd002c1b1deb</td>\n",
       "      <td>Ning</td>\n",
       "      <td>{'lat': 32.067782, 'lng': 34.767961, 'labeledL...</td>\n",
       "      <td>[{'id': '4bf58dd8d48988d142941735', 'name': 'A...</td>\n",
       "      <td>v-1583505799</td>\n",
       "      <td>False</td>\n",
       "      <td>NaN</td>\n",
       "    </tr>\n",
       "  </tbody>\n",
       "</table>\n",
       "</div>"
      ],
      "text/plain": [
       "                         id          name  \\\n",
       "0  594800de4382ab30b243a4e6  Cà Phê Hanoi   \n",
       "1  572adbf5498e1d76d32da113       מלי מלי   \n",
       "2  4cc965dcbfe1f04dc7870d75      אצה סושי   \n",
       "3  4ff17dfee4b018b0680ebaa9     צ׳אנג מאי   \n",
       "4  5c41b198f870fd002c1b1deb          Ning   \n",
       "\n",
       "                                            location  \\\n",
       "0  {'lat': 32.07968605952711, 'lng': 34.779864215...   \n",
       "1  {'lat': 32.081486, 'lng': 34.809708, 'labeledL...   \n",
       "2  {'lat': 32.08323412282996, 'lng': 34.803849552...   \n",
       "3  {'lat': 32.08767781134958, 'lng': 34.803949225...   \n",
       "4  {'lat': 32.067782, 'lng': 34.767961, 'labeledL...   \n",
       "\n",
       "                                          categories    referralId  hasPerk  \\\n",
       "0  [{'id': '4bf58dd8d48988d14a941735', 'name': 'V...  v-1583505798    False   \n",
       "1  [{'id': '4bf58dd8d48988d145941735', 'name': 'C...  v-1583505798    False   \n",
       "2  [{'id': '4bf58dd8d48988d1d2941735', 'name': 'S...  v-1583505798    False   \n",
       "3  [{'id': '4bf58dd8d48988d149941735', 'name': 'T...  v-1583505799    False   \n",
       "4  [{'id': '4bf58dd8d48988d142941735', 'name': 'A...  v-1583505799    False   \n",
       "\n",
       "  venuePage  \n",
       "0       NaN  \n",
       "1       NaN  \n",
       "2       NaN  \n",
       "3       NaN  \n",
       "4       NaN  "
      ]
     },
     "execution_count": 6,
     "metadata": {},
     "output_type": "execute_result"
    }
   ],
   "source": [
    "found_restaurants_df = pd.DataFrame(found_restaurants_data['response']['venues'])\n",
    "found_restaurants_df.head()"
   ]
  },
  {
   "cell_type": "markdown",
   "metadata": {},
   "source": [
    "### Results"
   ]
  },
  {
   "cell_type": "markdown",
   "metadata": {},
   "source": [
    "#### Clustering the restaurants by location:\n",
    "\n",
    "As stated in the business problem at the start of my report, location is key.\n",
    "For simplicity's sake, and since there are not that many Asian restaurants in Tel-Aviv, we are going to divide the city to 5 main boroughs (there may be some overlap, naturally, as this is a gross estimation):\n",
    "\n",
    "1. Northern Tel Aviv (This uptown part of Tel-Aviv is very affluent, quiet, and is comprised of mostly upscale residential neighborhoods)\n",
    "2. Central Tel Aviv (The bustling, chic part of the city where most things happen - most restaurants will probably be here)\n",
    "3. Southern Tel Aviv (This part of Tel-Aviv is industrial and quite impoverished; it is very heterogenous due to many poor foreign immigrants having settled there, and is widely considered to be the \"bad part of town\")\n",
    "4. Eastern Tel Aviv (Very Urban, middle-class, with some residential areas as well as commercial areas, mostly \"run-of-the-mill\" neighbourhoods, especially compared to Northern and Central Tel-Aviv)\n",
    "5. Jaffa (Some could argue it is a distinct town onto itself, but as it is officialy part of Tel-Aviv, I included it too.)\n",
    "\n",
    "###### It would be interesting to see how the restaurants are clustered by borough, and we will achieve that by stating some boundaries as constant coordinates, then adding circle markers to our Tel-Aviv map, to show the different boroughs' boundaries"
   ]
  },
  {
   "cell_type": "code",
   "execution_count": 7,
   "metadata": {},
   "outputs": [
    {
     "data": {
      "text/html": [
       "<div style=\"width:100%;\"><div style=\"position:relative;width:100%;height:0;padding-bottom:60%;\"><iframe src=\"about:blank\" style=\"position:absolute;width:100%;height:100%;left:0;top:0;border:none !important;\" data-html=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 onload=\"this.contentDocument.open();this.contentDocument.write(atob(this.getAttribute('data-html')));this.contentDocument.close();\" allowfullscreen webkitallowfullscreen mozallowfullscreen></iframe></div></div>"
      ],
      "text/plain": [
       "<folium.folium.Map at 0x2246c869988>"
      ]
     },
     "execution_count": 7,
     "metadata": {},
     "output_type": "execute_result"
    }
   ],
   "source": [
    "TEL_AVIV_BOROUGHS = {\n",
    "    'Northern Tel Aviv': {\n",
    "        'center': (32.115974, 34.810723),\n",
    "        'radius': 160,\n",
    "        'color': 'blue'\n",
    "    },\n",
    "    'Central Tel Aviv': {\n",
    "        'center': (32.081541, 34.781112),\n",
    "        'radius': 150,\n",
    "        'color': 'orange'\n",
    "    },\n",
    "    'Southern Tel Aviv': {\n",
    "        'center': (32.055588, 34.777612),\n",
    "        'radius': 115,\n",
    "        'color': 'red'\n",
    "    },\n",
    "    'Eastern Tel Aviv': {\n",
    "        'center': (32.055515, 34.804677),\n",
    "        'radius': 100,\n",
    "        'color': 'green'\n",
    "    },\n",
    "    'Jaffa': {\n",
    "        'center': (32.051335, 34.755558),\n",
    "        'radius': 110,\n",
    "        'color': 'purple'\n",
    "    }\n",
    "}\n",
    "\n",
    "for k,v in TEL_AVIV_BOROUGHS.items():\n",
    "    folium.CircleMarker(\n",
    "        location=v['center'],\n",
    "        radius=v['radius'],\n",
    "        popup=k,\n",
    "        color=v['color'],\n",
    "        fill=True,\n",
    "        fill_color=v['color']\n",
    "    ).add_to(telaviv_map)\n",
    "    \n",
    "telaviv_map"
   ]
  },
  {
   "cell_type": "markdown",
   "metadata": {},
   "source": [
    "###### Nice, now we can show them on the map and see how they are spread:"
   ]
  },
  {
   "cell_type": "code",
   "execution_count": 8,
   "metadata": {},
   "outputs": [
    {
     "data": {
      "text/html": [
       "<div style=\"width:100%;\"><div style=\"position:relative;width:100%;height:0;padding-bottom:60%;\"><iframe src=\"about:blank\" style=\"position:absolute;width:100%;height:100%;left:0;top:0;border:none !important;\" data-html=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 onload=\"this.contentDocument.open();this.contentDocument.write(atob(this.getAttribute('data-html')));this.contentDocument.close();\" allowfullscreen webkitallowfullscreen mozallowfullscreen></iframe></div></div>"
      ],
      "text/plain": [
       "<folium.folium.Map at 0x2246c869988>"
      ]
     },
     "execution_count": 8,
     "metadata": {},
     "output_type": "execute_result"
    }
   ],
   "source": [
    "for i in range(0, len(found_restaurants_df)):\n",
    "    folium.Marker(\n",
    "        [found_restaurants_df.iloc[i]['location']['lat'], found_restaurants_df.iloc[i]['location']['lng']],\n",
    "        popup=found_restaurants_df.iloc[i]['name']\n",
    "    ).add_to(telaviv_map)\n",
    "\n",
    "telaviv_map"
   ]
  },
  {
   "cell_type": "markdown",
   "metadata": {},
   "source": [
    "### Discussion"
   ]
  },
  {
   "cell_type": "markdown",
   "metadata": {},
   "source": [
    "As can be seen from the above map, most Asian restaurants are located, perhaps quite expectedly so, in the heart of Central Tel-Aviv.\n",
    "There is some overlap with the Southern districts, where we can also see some Asian restaurants.\n",
    "\n",
    "What's interesting is that we barely see any Asian restaurants, if at all, in Jaffa, Eastern Tel-Aviv and Northern Tel-Aviv.\n",
    "This begs the question: Would opening an Asian restaurant in one of these boroughs be a good investment, given the (very) minimal potential competition?\n",
    "\n",
    "Let us consider each borough separately: \n",
    "\n",
    "- Jaffa: There are barely any Asian restaurants in most of Jaffa, with the only cluster being at the very edge of the borough, where it overlaps with both Southern and Central Tel-Aviv. This could be a great spot for an Asian restaurant, and in fact I'll admit it was my first thought - but seeing as how there are already many Asian restaurants within that area, I would shift my priorities somewhere else. The rest of Jaffa is empty for a reason - it is quite poor and undeveloped, and therefore a high-end Asian restaurant in that area would not make sense in the first place.\n",
    "\n",
    "- Northern Tel-Aviv: This is a residential area and therefore the potential for customers is not very high. However, since my Asian restaurant is supposed to be high-end and aimed at affluent customers, I would probably prefer this borough to Jaffa. Another issue is that Northern Tel-Aviv is quite large and sparse, so my restaurant would not be as accessible.\n",
    "\n",
    "- Eastern Tel-Aviv: All in all, especially having considered the two above boroughs, this borough makes most sense. We can see it has a nice overlap with both Southern and Central Tel-Aviv, however as oppposed to Jaffa and even Northern Tel-Aviv - there are absolutely no Asian restaurants in that area! This makes my Asian restaurant stand out, and it would be much more accessible given the said overlap. Ideally, I would open my Asian restaurant at the small intersection between the three areas (Where the green, red and orange balloons intersect)."
   ]
  },
  {
   "cell_type": "markdown",
   "metadata": {},
   "source": [
    "### Conclusion"
   ]
  },
  {
   "cell_type": "markdown",
   "metadata": {},
   "source": [
    "So, given the above discussion, it only makes sense that I open my high-end Asian restaurant at the intersection between Central, Eastern and Southern Tel-Aviv! It is easily accessible, it has good customer volume, there isn't much competition nearby and the Eastern & Central Tel-Aviv boroughs are affluent enough to attract high-paying customers."
   ]
  }
 ],
 "metadata": {
  "kernelspec": {
   "display_name": "Python 3",
   "language": "python",
   "name": "python3"
  },
  "language_info": {
   "codemirror_mode": {
    "name": "ipython",
    "version": 3
   },
   "file_extension": ".py",
   "mimetype": "text/x-python",
   "name": "python",
   "nbconvert_exporter": "python",
   "pygments_lexer": "ipython3",
   "version": "3.7.4"
  }
 },
 "nbformat": 4,
 "nbformat_minor": 2
}
